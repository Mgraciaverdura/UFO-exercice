{
 "cells": [
  {
   "cell_type": "raw",
   "metadata": {},
   "source": [
    "Conclusion: The device was sold in 2004 to an anonymous buyer to protect her hometown and\n",
    "we don't know how contact her again. We know that the device has been active since 2004 in one\n",
    "city in the USA, and we want to know where to start our search.\n",
    "We've included a dataset called ufo.csv. This dataset contains over 80,000 reports of UFO sightings\n",
    "over the last century (all of them verified by the ESA). Using this dataset, try to guess the city in\n",
    "which the device has been hidden.\n",
    "Include all the code or files used to find the solution inside the question2 folder. If you want to\n",
    "comment your solution, use the README.md file."
   ]
  },
  {
   "cell_type": "code",
   "execution_count": 1,
   "metadata": {},
   "outputs": [],
   "source": [
    "import pandas as pd\n",
    "import datetime\n",
    "import folium"
   ]
  },
  {
   "cell_type": "markdown",
   "metadata": {},
   "source": [
    "# Data loading"
   ]
  },
  {
   "cell_type": "code",
   "execution_count": 2,
   "metadata": {},
   "outputs": [],
   "source": [
    "df = pd.read_csv('ufo.csv')"
   ]
  },
  {
   "cell_type": "markdown",
   "metadata": {},
   "source": [
    "# First of all, let's explore our dataframe"
   ]
  },
  {
   "cell_type": "code",
   "execution_count": 3,
   "metadata": {},
   "outputs": [
    {
     "data": {
      "text/html": [
       "<div>\n",
       "<style scoped>\n",
       "    .dataframe tbody tr th:only-of-type {\n",
       "        vertical-align: middle;\n",
       "    }\n",
       "\n",
       "    .dataframe tbody tr th {\n",
       "        vertical-align: top;\n",
       "    }\n",
       "\n",
       "    .dataframe thead th {\n",
       "        text-align: right;\n",
       "    }\n",
       "</style>\n",
       "<table border=\"1\" class=\"dataframe\">\n",
       "  <thead>\n",
       "    <tr style=\"text-align: right;\">\n",
       "      <th></th>\n",
       "      <th>Unnamed: 0</th>\n",
       "      <th>datetime</th>\n",
       "      <th>city</th>\n",
       "      <th>state</th>\n",
       "      <th>country</th>\n",
       "      <th>shape</th>\n",
       "      <th>duration</th>\n",
       "      <th>total_time</th>\n",
       "      <th>comments</th>\n",
       "      <th>date_posted</th>\n",
       "      <th>latitude</th>\n",
       "      <th>longitude</th>\n",
       "      <th>year</th>\n",
       "      <th>distance</th>\n",
       "    </tr>\n",
       "  </thead>\n",
       "  <tbody>\n",
       "    <tr>\n",
       "      <th>0</th>\n",
       "      <td>0</td>\n",
       "      <td>10/10/1949 20:30</td>\n",
       "      <td>san marcos</td>\n",
       "      <td>tx</td>\n",
       "      <td>us</td>\n",
       "      <td>cylinder</td>\n",
       "      <td>2700.0</td>\n",
       "      <td>45 minutes</td>\n",
       "      <td>This event took place in early fall around 194...</td>\n",
       "      <td>4/27/2004</td>\n",
       "      <td>29.883056</td>\n",
       "      <td>-97.941111</td>\n",
       "      <td>2004</td>\n",
       "      <td>1242.667772</td>\n",
       "    </tr>\n",
       "    <tr>\n",
       "      <th>1</th>\n",
       "      <td>1</td>\n",
       "      <td>10/10/1949 21:00</td>\n",
       "      <td>lackland afb</td>\n",
       "      <td>tx</td>\n",
       "      <td>NaN</td>\n",
       "      <td>light</td>\n",
       "      <td>7200.0</td>\n",
       "      <td>1-2 hrs</td>\n",
       "      <td>1949 Lackland AFB&amp;#44 TX.  Lights racing acros...</td>\n",
       "      <td>12/16/2005</td>\n",
       "      <td>29.384210</td>\n",
       "      <td>-98.581082</td>\n",
       "      <td>2005</td>\n",
       "      <td>1325.486319</td>\n",
       "    </tr>\n",
       "    <tr>\n",
       "      <th>2</th>\n",
       "      <td>2</td>\n",
       "      <td>10/10/1955 17:00</td>\n",
       "      <td>chester (uk/england)</td>\n",
       "      <td>NaN</td>\n",
       "      <td>gb</td>\n",
       "      <td>circle</td>\n",
       "      <td>20.0</td>\n",
       "      <td>20 seconds</td>\n",
       "      <td>Green/Orange circular disc over Chester&amp;#44 En...</td>\n",
       "      <td>1/21/2008</td>\n",
       "      <td>53.200000</td>\n",
       "      <td>-2.916667</td>\n",
       "      <td>2008</td>\n",
       "      <td>6515.416577</td>\n",
       "    </tr>\n",
       "    <tr>\n",
       "      <th>3</th>\n",
       "      <td>3</td>\n",
       "      <td>10/10/1956 21:00</td>\n",
       "      <td>edna</td>\n",
       "      <td>tx</td>\n",
       "      <td>us</td>\n",
       "      <td>circle</td>\n",
       "      <td>20.0</td>\n",
       "      <td>1/2 hour</td>\n",
       "      <td>My older brother and twin sister were leaving ...</td>\n",
       "      <td>1/17/2004</td>\n",
       "      <td>28.978333</td>\n",
       "      <td>-96.645833</td>\n",
       "      <td>2004</td>\n",
       "      <td>1211.971352</td>\n",
       "    </tr>\n",
       "    <tr>\n",
       "      <th>4</th>\n",
       "      <td>4</td>\n",
       "      <td>10/10/1960 20:00</td>\n",
       "      <td>kaneohe</td>\n",
       "      <td>hi</td>\n",
       "      <td>us</td>\n",
       "      <td>light</td>\n",
       "      <td>900.0</td>\n",
       "      <td>15 minutes</td>\n",
       "      <td>AS a Marine 1st Lt. flying an FJ4B fighter/att...</td>\n",
       "      <td>1/22/2004</td>\n",
       "      <td>21.418056</td>\n",
       "      <td>-157.803611</td>\n",
       "      <td>2004</td>\n",
       "      <td>6960.923396</td>\n",
       "    </tr>\n",
       "  </tbody>\n",
       "</table>\n",
       "</div>"
      ],
      "text/plain": [
       "   Unnamed: 0          datetime                  city state country     shape  \\\n",
       "0           0  10/10/1949 20:30            san marcos    tx      us  cylinder   \n",
       "1           1  10/10/1949 21:00          lackland afb    tx     NaN     light   \n",
       "2           2  10/10/1955 17:00  chester (uk/england)   NaN      gb    circle   \n",
       "3           3  10/10/1956 21:00                  edna    tx      us    circle   \n",
       "4           4  10/10/1960 20:00               kaneohe    hi      us     light   \n",
       "\n",
       "   duration  total_time                                           comments  \\\n",
       "0    2700.0  45 minutes  This event took place in early fall around 194...   \n",
       "1    7200.0     1-2 hrs  1949 Lackland AFB&#44 TX.  Lights racing acros...   \n",
       "2      20.0  20 seconds  Green/Orange circular disc over Chester&#44 En...   \n",
       "3      20.0    1/2 hour  My older brother and twin sister were leaving ...   \n",
       "4     900.0  15 minutes  AS a Marine 1st Lt. flying an FJ4B fighter/att...   \n",
       "\n",
       "  date_posted   latitude   longitude  year     distance  \n",
       "0   4/27/2004  29.883056  -97.941111  2004  1242.667772  \n",
       "1  12/16/2005  29.384210  -98.581082  2005  1325.486319  \n",
       "2   1/21/2008  53.200000   -2.916667  2008  6515.416577  \n",
       "3   1/17/2004  28.978333  -96.645833  2004  1211.971352  \n",
       "4   1/22/2004  21.418056 -157.803611  2004  6960.923396  "
      ]
     },
     "execution_count": 3,
     "metadata": {},
     "output_type": "execute_result"
    }
   ],
   "source": [
    "df.head()"
   ]
  },
  {
   "cell_type": "code",
   "execution_count": 4,
   "metadata": {},
   "outputs": [],
   "source": [
    "ufo = df.copy()"
   ]
  },
  {
   "cell_type": "code",
   "execution_count": 5,
   "metadata": {},
   "outputs": [
    {
     "data": {
      "text/plain": [
       "(78509, 14)"
      ]
     },
     "execution_count": 5,
     "metadata": {},
     "output_type": "execute_result"
    }
   ],
   "source": [
    "ufo.shape"
   ]
  },
  {
   "cell_type": "code",
   "execution_count": 6,
   "metadata": {},
   "outputs": [
    {
     "data": {
      "text/plain": [
       "Unnamed: 0        0\n",
       "datetime          0\n",
       "city              0\n",
       "state          5795\n",
       "country        9562\n",
       "shape          1910\n",
       "duration          0\n",
       "total_time        0\n",
       "comments         14\n",
       "date_posted       0\n",
       "latitude          0\n",
       "longitude         0\n",
       "year              0\n",
       "distance          0\n",
       "dtype: int64"
      ]
     },
     "execution_count": 6,
     "metadata": {},
     "output_type": "execute_result"
    }
   ],
   "source": [
    "ufo.isna().sum()"
   ]
  },
  {
   "cell_type": "code",
   "execution_count": 7,
   "metadata": {},
   "outputs": [
    {
     "name": "stdout",
     "output_type": "stream",
     "text": [
      "<class 'pandas.core.frame.DataFrame'>\n",
      "RangeIndex: 78509 entries, 0 to 78508\n",
      "Data columns (total 14 columns):\n",
      "Unnamed: 0     78509 non-null int64\n",
      "datetime       78509 non-null object\n",
      "city           78509 non-null object\n",
      "state          72714 non-null object\n",
      "country        68947 non-null object\n",
      "shape          76599 non-null object\n",
      "duration       78509 non-null float64\n",
      "total_time     78509 non-null object\n",
      "comments       78495 non-null object\n",
      "date_posted    78509 non-null object\n",
      "latitude       78509 non-null float64\n",
      "longitude      78509 non-null float64\n",
      "year           78509 non-null int64\n",
      "distance       78509 non-null float64\n",
      "dtypes: float64(4), int64(2), object(8)\n",
      "memory usage: 47.6 MB\n"
     ]
    }
   ],
   "source": [
    "ufo.info(memory_usage='deep')"
   ]
  },
  {
   "cell_type": "code",
   "execution_count": 8,
   "metadata": {},
   "outputs": [
    {
     "data": {
      "text/html": [
       "<div>\n",
       "<style scoped>\n",
       "    .dataframe tbody tr th:only-of-type {\n",
       "        vertical-align: middle;\n",
       "    }\n",
       "\n",
       "    .dataframe tbody tr th {\n",
       "        vertical-align: top;\n",
       "    }\n",
       "\n",
       "    .dataframe thead th {\n",
       "        text-align: right;\n",
       "    }\n",
       "</style>\n",
       "<table border=\"1\" class=\"dataframe\">\n",
       "  <thead>\n",
       "    <tr style=\"text-align: right;\">\n",
       "      <th></th>\n",
       "      <th>Unnamed: 0</th>\n",
       "      <th>datetime</th>\n",
       "      <th>city</th>\n",
       "      <th>state</th>\n",
       "      <th>country</th>\n",
       "      <th>shape</th>\n",
       "      <th>duration</th>\n",
       "      <th>total_time</th>\n",
       "      <th>comments</th>\n",
       "      <th>date_posted</th>\n",
       "      <th>latitude</th>\n",
       "      <th>longitude</th>\n",
       "      <th>year</th>\n",
       "      <th>distance</th>\n",
       "    </tr>\n",
       "  </thead>\n",
       "  <tbody>\n",
       "    <tr>\n",
       "      <th>count</th>\n",
       "      <td>78509.000000</td>\n",
       "      <td>78509</td>\n",
       "      <td>78509</td>\n",
       "      <td>72714</td>\n",
       "      <td>68947</td>\n",
       "      <td>76599</td>\n",
       "      <td>7.850900e+04</td>\n",
       "      <td>78509</td>\n",
       "      <td>78495</td>\n",
       "      <td>78509</td>\n",
       "      <td>78509.000000</td>\n",
       "      <td>78509.000000</td>\n",
       "      <td>78509.000000</td>\n",
       "      <td>78509.000000</td>\n",
       "    </tr>\n",
       "    <tr>\n",
       "      <th>unique</th>\n",
       "      <td>NaN</td>\n",
       "      <td>68186</td>\n",
       "      <td>19613</td>\n",
       "      <td>67</td>\n",
       "      <td>5</td>\n",
       "      <td>29</td>\n",
       "      <td>NaN</td>\n",
       "      <td>8230</td>\n",
       "      <td>78179</td>\n",
       "      <td>317</td>\n",
       "      <td>NaN</td>\n",
       "      <td>NaN</td>\n",
       "      <td>NaN</td>\n",
       "      <td>NaN</td>\n",
       "    </tr>\n",
       "    <tr>\n",
       "      <th>top</th>\n",
       "      <td>NaN</td>\n",
       "      <td>7/4/2010 22:00</td>\n",
       "      <td>seattle</td>\n",
       "      <td>ca</td>\n",
       "      <td>us</td>\n",
       "      <td>light</td>\n",
       "      <td>NaN</td>\n",
       "      <td>5 minutes</td>\n",
       "      <td>Fireball</td>\n",
       "      <td>12/12/2009</td>\n",
       "      <td>NaN</td>\n",
       "      <td>NaN</td>\n",
       "      <td>NaN</td>\n",
       "      <td>NaN</td>\n",
       "    </tr>\n",
       "    <tr>\n",
       "      <th>freq</th>\n",
       "      <td>NaN</td>\n",
       "      <td>36</td>\n",
       "      <td>525</td>\n",
       "      <td>9655</td>\n",
       "      <td>63399</td>\n",
       "      <td>16203</td>\n",
       "      <td>NaN</td>\n",
       "      <td>4595</td>\n",
       "      <td>11</td>\n",
       "      <td>1476</td>\n",
       "      <td>NaN</td>\n",
       "      <td>NaN</td>\n",
       "      <td>NaN</td>\n",
       "      <td>NaN</td>\n",
       "    </tr>\n",
       "    <tr>\n",
       "      <th>mean</th>\n",
       "      <td>40190.587461</td>\n",
       "      <td>NaN</td>\n",
       "      <td>NaN</td>\n",
       "      <td>NaN</td>\n",
       "      <td>NaN</td>\n",
       "      <td>NaN</td>\n",
       "      <td>9.196769e+03</td>\n",
       "      <td>NaN</td>\n",
       "      <td>NaN</td>\n",
       "      <td>NaN</td>\n",
       "      <td>38.166745</td>\n",
       "      <td>-86.780908</td>\n",
       "      <td>2007.003312</td>\n",
       "      <td>2128.202038</td>\n",
       "    </tr>\n",
       "    <tr>\n",
       "      <th>std</th>\n",
       "      <td>23196.723816</td>\n",
       "      <td>NaN</td>\n",
       "      <td>NaN</td>\n",
       "      <td>NaN</td>\n",
       "      <td>NaN</td>\n",
       "      <td>NaN</td>\n",
       "      <td>6.273714e+05</td>\n",
       "      <td>NaN</td>\n",
       "      <td>NaN</td>\n",
       "      <td>NaN</td>\n",
       "      <td>10.584565</td>\n",
       "      <td>40.154765</td>\n",
       "      <td>4.559303</td>\n",
       "      <td>2332.983361</td>\n",
       "    </tr>\n",
       "    <tr>\n",
       "      <th>min</th>\n",
       "      <td>0.000000</td>\n",
       "      <td>NaN</td>\n",
       "      <td>NaN</td>\n",
       "      <td>NaN</td>\n",
       "      <td>NaN</td>\n",
       "      <td>NaN</td>\n",
       "      <td>1.000000e-03</td>\n",
       "      <td>NaN</td>\n",
       "      <td>NaN</td>\n",
       "      <td>NaN</td>\n",
       "      <td>-82.862752</td>\n",
       "      <td>-176.658056</td>\n",
       "      <td>1998.000000</td>\n",
       "      <td>12.911623</td>\n",
       "    </tr>\n",
       "    <tr>\n",
       "      <th>25%</th>\n",
       "      <td>20108.000000</td>\n",
       "      <td>NaN</td>\n",
       "      <td>NaN</td>\n",
       "      <td>NaN</td>\n",
       "      <td>NaN</td>\n",
       "      <td>NaN</td>\n",
       "      <td>3.000000e+01</td>\n",
       "      <td>NaN</td>\n",
       "      <td>NaN</td>\n",
       "      <td>NaN</td>\n",
       "      <td>34.092222</td>\n",
       "      <td>-112.435000</td>\n",
       "      <td>2003.000000</td>\n",
       "      <td>827.662263</td>\n",
       "    </tr>\n",
       "    <tr>\n",
       "      <th>50%</th>\n",
       "      <td>40190.000000</td>\n",
       "      <td>NaN</td>\n",
       "      <td>NaN</td>\n",
       "      <td>NaN</td>\n",
       "      <td>NaN</td>\n",
       "      <td>NaN</td>\n",
       "      <td>1.800000e+02</td>\n",
       "      <td>NaN</td>\n",
       "      <td>NaN</td>\n",
       "      <td>NaN</td>\n",
       "      <td>39.628333</td>\n",
       "      <td>-88.083333</td>\n",
       "      <td>2007.000000</td>\n",
       "      <td>1289.726145</td>\n",
       "    </tr>\n",
       "    <tr>\n",
       "      <th>75%</th>\n",
       "      <td>60298.000000</td>\n",
       "      <td>NaN</td>\n",
       "      <td>NaN</td>\n",
       "      <td>NaN</td>\n",
       "      <td>NaN</td>\n",
       "      <td>NaN</td>\n",
       "      <td>6.000000e+02</td>\n",
       "      <td>NaN</td>\n",
       "      <td>NaN</td>\n",
       "      <td>NaN</td>\n",
       "      <td>42.898611</td>\n",
       "      <td>-78.456667</td>\n",
       "      <td>2011.000000</td>\n",
       "      <td>2835.084692</td>\n",
       "    </tr>\n",
       "    <tr>\n",
       "      <th>max</th>\n",
       "      <td>80331.000000</td>\n",
       "      <td>NaN</td>\n",
       "      <td>NaN</td>\n",
       "      <td>NaN</td>\n",
       "      <td>NaN</td>\n",
       "      <td>NaN</td>\n",
       "      <td>9.783600e+07</td>\n",
       "      <td>NaN</td>\n",
       "      <td>NaN</td>\n",
       "      <td>NaN</td>\n",
       "      <td>72.700000</td>\n",
       "      <td>178.441900</td>\n",
       "      <td>2014.000000</td>\n",
       "      <td>18940.018957</td>\n",
       "    </tr>\n",
       "  </tbody>\n",
       "</table>\n",
       "</div>"
      ],
      "text/plain": [
       "          Unnamed: 0        datetime     city  state country  shape  \\\n",
       "count   78509.000000           78509    78509  72714   68947  76599   \n",
       "unique           NaN           68186    19613     67       5     29   \n",
       "top              NaN  7/4/2010 22:00  seattle     ca      us  light   \n",
       "freq             NaN              36      525   9655   63399  16203   \n",
       "mean    40190.587461             NaN      NaN    NaN     NaN    NaN   \n",
       "std     23196.723816             NaN      NaN    NaN     NaN    NaN   \n",
       "min         0.000000             NaN      NaN    NaN     NaN    NaN   \n",
       "25%     20108.000000             NaN      NaN    NaN     NaN    NaN   \n",
       "50%     40190.000000             NaN      NaN    NaN     NaN    NaN   \n",
       "75%     60298.000000             NaN      NaN    NaN     NaN    NaN   \n",
       "max     80331.000000             NaN      NaN    NaN     NaN    NaN   \n",
       "\n",
       "            duration total_time  comments date_posted      latitude  \\\n",
       "count   7.850900e+04      78509     78495       78509  78509.000000   \n",
       "unique           NaN       8230     78179         317           NaN   \n",
       "top              NaN  5 minutes  Fireball  12/12/2009           NaN   \n",
       "freq             NaN       4595        11        1476           NaN   \n",
       "mean    9.196769e+03        NaN       NaN         NaN     38.166745   \n",
       "std     6.273714e+05        NaN       NaN         NaN     10.584565   \n",
       "min     1.000000e-03        NaN       NaN         NaN    -82.862752   \n",
       "25%     3.000000e+01        NaN       NaN         NaN     34.092222   \n",
       "50%     1.800000e+02        NaN       NaN         NaN     39.628333   \n",
       "75%     6.000000e+02        NaN       NaN         NaN     42.898611   \n",
       "max     9.783600e+07        NaN       NaN         NaN     72.700000   \n",
       "\n",
       "           longitude          year      distance  \n",
       "count   78509.000000  78509.000000  78509.000000  \n",
       "unique           NaN           NaN           NaN  \n",
       "top              NaN           NaN           NaN  \n",
       "freq             NaN           NaN           NaN  \n",
       "mean      -86.780908   2007.003312   2128.202038  \n",
       "std        40.154765      4.559303   2332.983361  \n",
       "min      -176.658056   1998.000000     12.911623  \n",
       "25%      -112.435000   2003.000000    827.662263  \n",
       "50%       -88.083333   2007.000000   1289.726145  \n",
       "75%       -78.456667   2011.000000   2835.084692  \n",
       "max       178.441900   2014.000000  18940.018957  "
      ]
     },
     "execution_count": 8,
     "metadata": {},
     "output_type": "execute_result"
    }
   ],
   "source": [
    "ufo.describe(include='all')"
   ]
  },
  {
   "cell_type": "code",
   "execution_count": 9,
   "metadata": {},
   "outputs": [
    {
     "data": {
      "text/plain": [
       "Index(['Unnamed: 0', 'datetime', 'city', 'state', 'country', 'shape',\n",
       "       'duration', 'total_time', 'comments', 'date_posted', 'latitude',\n",
       "       'longitude', 'year', 'distance'],\n",
       "      dtype='object')"
      ]
     },
     "execution_count": 9,
     "metadata": {},
     "output_type": "execute_result"
    }
   ],
   "source": [
    "ufo.columns"
   ]
  },
  {
   "cell_type": "markdown",
   "metadata": {},
   "source": [
    "# Now, we are going to drop useless columns"
   ]
  },
  {
   "cell_type": "code",
   "execution_count": 10,
   "metadata": {},
   "outputs": [
    {
     "data": {
      "text/html": [
       "<div>\n",
       "<style scoped>\n",
       "    .dataframe tbody tr th:only-of-type {\n",
       "        vertical-align: middle;\n",
       "    }\n",
       "\n",
       "    .dataframe tbody tr th {\n",
       "        vertical-align: top;\n",
       "    }\n",
       "\n",
       "    .dataframe thead th {\n",
       "        text-align: right;\n",
       "    }\n",
       "</style>\n",
       "<table border=\"1\" class=\"dataframe\">\n",
       "  <thead>\n",
       "    <tr style=\"text-align: right;\">\n",
       "      <th></th>\n",
       "      <th>datetime</th>\n",
       "      <th>city</th>\n",
       "      <th>state</th>\n",
       "      <th>country</th>\n",
       "      <th>latitude</th>\n",
       "      <th>longitude</th>\n",
       "      <th>distance</th>\n",
       "    </tr>\n",
       "  </thead>\n",
       "  <tbody>\n",
       "    <tr>\n",
       "      <th>0</th>\n",
       "      <td>10/10/1949 20:30</td>\n",
       "      <td>san marcos</td>\n",
       "      <td>tx</td>\n",
       "      <td>us</td>\n",
       "      <td>29.883056</td>\n",
       "      <td>-97.941111</td>\n",
       "      <td>1242.667772</td>\n",
       "    </tr>\n",
       "    <tr>\n",
       "      <th>1</th>\n",
       "      <td>10/10/1949 21:00</td>\n",
       "      <td>lackland afb</td>\n",
       "      <td>tx</td>\n",
       "      <td>NaN</td>\n",
       "      <td>29.384210</td>\n",
       "      <td>-98.581082</td>\n",
       "      <td>1325.486319</td>\n",
       "    </tr>\n",
       "    <tr>\n",
       "      <th>2</th>\n",
       "      <td>10/10/1955 17:00</td>\n",
       "      <td>chester (uk/england)</td>\n",
       "      <td>NaN</td>\n",
       "      <td>gb</td>\n",
       "      <td>53.200000</td>\n",
       "      <td>-2.916667</td>\n",
       "      <td>6515.416577</td>\n",
       "    </tr>\n",
       "    <tr>\n",
       "      <th>3</th>\n",
       "      <td>10/10/1956 21:00</td>\n",
       "      <td>edna</td>\n",
       "      <td>tx</td>\n",
       "      <td>us</td>\n",
       "      <td>28.978333</td>\n",
       "      <td>-96.645833</td>\n",
       "      <td>1211.971352</td>\n",
       "    </tr>\n",
       "    <tr>\n",
       "      <th>4</th>\n",
       "      <td>10/10/1960 20:00</td>\n",
       "      <td>kaneohe</td>\n",
       "      <td>hi</td>\n",
       "      <td>us</td>\n",
       "      <td>21.418056</td>\n",
       "      <td>-157.803611</td>\n",
       "      <td>6960.923396</td>\n",
       "    </tr>\n",
       "  </tbody>\n",
       "</table>\n",
       "</div>"
      ],
      "text/plain": [
       "           datetime                  city state country   latitude  \\\n",
       "0  10/10/1949 20:30            san marcos    tx      us  29.883056   \n",
       "1  10/10/1949 21:00          lackland afb    tx     NaN  29.384210   \n",
       "2  10/10/1955 17:00  chester (uk/england)   NaN      gb  53.200000   \n",
       "3  10/10/1956 21:00                  edna    tx      us  28.978333   \n",
       "4  10/10/1960 20:00               kaneohe    hi      us  21.418056   \n",
       "\n",
       "    longitude     distance  \n",
       "0  -97.941111  1242.667772  \n",
       "1  -98.581082  1325.486319  \n",
       "2   -2.916667  6515.416577  \n",
       "3  -96.645833  1211.971352  \n",
       "4 -157.803611  6960.923396  "
      ]
     },
     "execution_count": 10,
     "metadata": {},
     "output_type": "execute_result"
    }
   ],
   "source": [
    "ufo = ufo.drop(['Unnamed: 0', 'shape',\n",
    "       'duration', 'total_time', 'comments', 'date_posted', 'year'], axis=1)\n",
    "ufo.head()"
   ]
  },
  {
   "cell_type": "markdown",
   "metadata": {},
   "source": [
    "# \"We know that the device has been active since 2004 in one city in the USA\". Let's drop rows about other countries."
   ]
  },
  {
   "cell_type": "code",
   "execution_count": 11,
   "metadata": {},
   "outputs": [
    {
     "data": {
      "text/plain": [
       "array(['us', nan, 'gb', 'ca', 'au', 'de'], dtype=object)"
      ]
     },
     "execution_count": 11,
     "metadata": {},
     "output_type": "execute_result"
    }
   ],
   "source": [
    "ufo.country.unique()"
   ]
  },
  {
   "cell_type": "code",
   "execution_count": 12,
   "metadata": {},
   "outputs": [],
   "source": [
    "ufo = ufo[ufo.country == 'us']"
   ]
  },
  {
   "cell_type": "code",
   "execution_count": 13,
   "metadata": {},
   "outputs": [
    {
     "data": {
      "text/plain": [
       "(63399, 7)"
      ]
     },
     "execution_count": 13,
     "metadata": {},
     "output_type": "execute_result"
    }
   ],
   "source": [
    "ufo.shape"
   ]
  },
  {
   "cell_type": "markdown",
   "metadata": {},
   "source": [
    "# \"Our only hope is to replicate a device that can block all alien technology in a radius of 300km.\""
   ]
  },
  {
   "cell_type": "code",
   "execution_count": 14,
   "metadata": {},
   "outputs": [],
   "source": [
    "ufo = ufo[ufo.distance >= 300]\n",
    "ufo = ufo[ufo.distance <= 400 ]"
   ]
  },
  {
   "cell_type": "code",
   "execution_count": 15,
   "metadata": {},
   "outputs": [
    {
     "data": {
      "text/plain": [
       "(2151, 7)"
      ]
     },
     "execution_count": 15,
     "metadata": {},
     "output_type": "execute_result"
    }
   ],
   "source": [
    "ufo.shape"
   ]
  },
  {
   "cell_type": "markdown",
   "metadata": {},
   "source": [
    "# We give column \"datetime\" a format easier to work with. Also, in order to filter by date, let's set it up as index\n"
   ]
  },
  {
   "cell_type": "code",
   "execution_count": 16,
   "metadata": {},
   "outputs": [],
   "source": [
    "ufo[\"datetime\"] = ufo['datetime'].str.replace('24:00', '0:00')\n",
    "ufo[\"datetime\"] = pd.to_datetime(ufo[\"datetime\"], format = \"%m/%d/%Y %H:%M\")\n",
    "ufo.set_index('datetime', inplace=True)"
   ]
  },
  {
   "cell_type": "code",
   "execution_count": 17,
   "metadata": {},
   "outputs": [
    {
     "data": {
      "text/html": [
       "<div>\n",
       "<style scoped>\n",
       "    .dataframe tbody tr th:only-of-type {\n",
       "        vertical-align: middle;\n",
       "    }\n",
       "\n",
       "    .dataframe tbody tr th {\n",
       "        vertical-align: top;\n",
       "    }\n",
       "\n",
       "    .dataframe thead th {\n",
       "        text-align: right;\n",
       "    }\n",
       "</style>\n",
       "<table border=\"1\" class=\"dataframe\">\n",
       "  <thead>\n",
       "    <tr style=\"text-align: right;\">\n",
       "      <th></th>\n",
       "      <th>city</th>\n",
       "      <th>state</th>\n",
       "      <th>country</th>\n",
       "      <th>latitude</th>\n",
       "      <th>longitude</th>\n",
       "      <th>distance</th>\n",
       "    </tr>\n",
       "    <tr>\n",
       "      <th>datetime</th>\n",
       "      <th></th>\n",
       "      <th></th>\n",
       "      <th></th>\n",
       "      <th></th>\n",
       "      <th></th>\n",
       "      <th></th>\n",
       "    </tr>\n",
       "  </thead>\n",
       "  <tbody>\n",
       "    <tr>\n",
       "      <th>1968-10-10 19:00:00</th>\n",
       "      <td>brevard</td>\n",
       "      <td>nc</td>\n",
       "      <td>us</td>\n",
       "      <td>35.233333</td>\n",
       "      <td>-82.734444</td>\n",
       "      <td>393.707403</td>\n",
       "    </tr>\n",
       "    <tr>\n",
       "      <th>1970-10-10 19:00:00</th>\n",
       "      <td>manchester</td>\n",
       "      <td>ky</td>\n",
       "      <td>us</td>\n",
       "      <td>37.153611</td>\n",
       "      <td>-83.761944</td>\n",
       "      <td>302.476051</td>\n",
       "    </tr>\n",
       "    <tr>\n",
       "      <th>1972-10-10 19:00:00</th>\n",
       "      <td>harlan county</td>\n",
       "      <td>ky</td>\n",
       "      <td>us</td>\n",
       "      <td>36.843056</td>\n",
       "      <td>-83.321944</td>\n",
       "      <td>330.895925</td>\n",
       "    </tr>\n",
       "    <tr>\n",
       "      <th>2000-10-10 03:00:00</th>\n",
       "      <td>perryville</td>\n",
       "      <td>mo</td>\n",
       "      <td>us</td>\n",
       "      <td>37.724167</td>\n",
       "      <td>-89.861111</td>\n",
       "      <td>312.173928</td>\n",
       "    </tr>\n",
       "    <tr>\n",
       "      <th>2000-10-10 21:30:00</th>\n",
       "      <td>florence</td>\n",
       "      <td>ky</td>\n",
       "      <td>us</td>\n",
       "      <td>38.998889</td>\n",
       "      <td>-84.626667</td>\n",
       "      <td>372.329684</td>\n",
       "    </tr>\n",
       "  </tbody>\n",
       "</table>\n",
       "</div>"
      ],
      "text/plain": [
       "                              city state country   latitude  longitude  \\\n",
       "datetime                                                                 \n",
       "1968-10-10 19:00:00        brevard    nc      us  35.233333 -82.734444   \n",
       "1970-10-10 19:00:00     manchester    ky      us  37.153611 -83.761944   \n",
       "1972-10-10 19:00:00  harlan county    ky      us  36.843056 -83.321944   \n",
       "2000-10-10 03:00:00     perryville    mo      us  37.724167 -89.861111   \n",
       "2000-10-10 21:30:00       florence    ky      us  38.998889 -84.626667   \n",
       "\n",
       "                       distance  \n",
       "datetime                         \n",
       "1968-10-10 19:00:00  393.707403  \n",
       "1970-10-10 19:00:00  302.476051  \n",
       "1972-10-10 19:00:00  330.895925  \n",
       "2000-10-10 03:00:00  312.173928  \n",
       "2000-10-10 21:30:00  372.329684  "
      ]
     },
     "execution_count": 17,
     "metadata": {},
     "output_type": "execute_result"
    }
   ],
   "source": [
    "ufo.head()"
   ]
  },
  {
   "cell_type": "markdown",
   "metadata": {},
   "source": [
    "# \"We know that the device has been active since 2004\". So let's drop precedent years."
   ]
  },
  {
   "cell_type": "code",
   "execution_count": 18,
   "metadata": {},
   "outputs": [],
   "source": [
    "ufo = ufo.loc['2004-01-01':]"
   ]
  },
  {
   "cell_type": "code",
   "execution_count": 19,
   "metadata": {},
   "outputs": [
    {
     "data": {
      "text/html": [
       "<div>\n",
       "<style scoped>\n",
       "    .dataframe tbody tr th:only-of-type {\n",
       "        vertical-align: middle;\n",
       "    }\n",
       "\n",
       "    .dataframe tbody tr th {\n",
       "        vertical-align: top;\n",
       "    }\n",
       "\n",
       "    .dataframe thead th {\n",
       "        text-align: right;\n",
       "    }\n",
       "</style>\n",
       "<table border=\"1\" class=\"dataframe\">\n",
       "  <thead>\n",
       "    <tr style=\"text-align: right;\">\n",
       "      <th></th>\n",
       "      <th>city</th>\n",
       "      <th>state</th>\n",
       "      <th>country</th>\n",
       "      <th>latitude</th>\n",
       "      <th>longitude</th>\n",
       "      <th>distance</th>\n",
       "    </tr>\n",
       "    <tr>\n",
       "      <th>datetime</th>\n",
       "      <th></th>\n",
       "      <th></th>\n",
       "      <th></th>\n",
       "      <th></th>\n",
       "      <th></th>\n",
       "      <th></th>\n",
       "    </tr>\n",
       "  </thead>\n",
       "  <tbody>\n",
       "    <tr>\n",
       "      <th>2004-10-10 04:18:00</th>\n",
       "      <td>terre haute</td>\n",
       "      <td>in</td>\n",
       "      <td>us</td>\n",
       "      <td>39.466667</td>\n",
       "      <td>-87.413889</td>\n",
       "      <td>366.596468</td>\n",
       "    </tr>\n",
       "    <tr>\n",
       "      <th>2006-10-10 12:37:00</th>\n",
       "      <td>blairsville</td>\n",
       "      <td>ga</td>\n",
       "      <td>us</td>\n",
       "      <td>34.876111</td>\n",
       "      <td>-83.958333</td>\n",
       "      <td>305.862395</td>\n",
       "    </tr>\n",
       "    <tr>\n",
       "      <th>2007-10-10 01:00:00</th>\n",
       "      <td>stockbridge</td>\n",
       "      <td>ga</td>\n",
       "      <td>us</td>\n",
       "      <td>33.544167</td>\n",
       "      <td>-84.233889</td>\n",
       "      <td>382.729821</td>\n",
       "    </tr>\n",
       "    <tr>\n",
       "      <th>2007-10-10 20:30:00</th>\n",
       "      <td>conyers</td>\n",
       "      <td>ga</td>\n",
       "      <td>us</td>\n",
       "      <td>33.667500</td>\n",
       "      <td>-84.017778</td>\n",
       "      <td>385.562497</td>\n",
       "    </tr>\n",
       "    <tr>\n",
       "      <th>2008-10-10 21:30:00</th>\n",
       "      <td>cincinnati</td>\n",
       "      <td>oh</td>\n",
       "      <td>us</td>\n",
       "      <td>39.161944</td>\n",
       "      <td>-84.456944</td>\n",
       "      <td>395.547630</td>\n",
       "    </tr>\n",
       "  </tbody>\n",
       "</table>\n",
       "</div>"
      ],
      "text/plain": [
       "                            city state country   latitude  longitude  \\\n",
       "datetime                                                               \n",
       "2004-10-10 04:18:00  terre haute    in      us  39.466667 -87.413889   \n",
       "2006-10-10 12:37:00  blairsville    ga      us  34.876111 -83.958333   \n",
       "2007-10-10 01:00:00  stockbridge    ga      us  33.544167 -84.233889   \n",
       "2007-10-10 20:30:00      conyers    ga      us  33.667500 -84.017778   \n",
       "2008-10-10 21:30:00   cincinnati    oh      us  39.161944 -84.456944   \n",
       "\n",
       "                       distance  \n",
       "datetime                         \n",
       "2004-10-10 04:18:00  366.596468  \n",
       "2006-10-10 12:37:00  305.862395  \n",
       "2007-10-10 01:00:00  382.729821  \n",
       "2007-10-10 20:30:00  385.562497  \n",
       "2008-10-10 21:30:00  395.547630  "
      ]
     },
     "execution_count": 19,
     "metadata": {},
     "output_type": "execute_result"
    }
   ],
   "source": [
    "ufo.head()"
   ]
  },
  {
   "cell_type": "code",
   "execution_count": 20,
   "metadata": {},
   "outputs": [
    {
     "data": {
      "text/plain": [
       "(1465, 6)"
      ]
     },
     "execution_count": 20,
     "metadata": {},
     "output_type": "execute_result"
    }
   ],
   "source": [
    "ufo.shape"
   ]
  },
  {
   "cell_type": "code",
   "execution_count": 21,
   "metadata": {},
   "outputs": [
    {
     "data": {
      "text/plain": [
       "Timestamp('2007-02-05 12:30:00')"
      ]
     },
     "execution_count": 21,
     "metadata": {},
     "output_type": "execute_result"
    }
   ],
   "source": [
    "ufo.distance.idxmin()"
   ]
  },
  {
   "cell_type": "code",
   "execution_count": 22,
   "metadata": {},
   "outputs": [
    {
     "data": {
      "text/html": [
       "<div>\n",
       "<style scoped>\n",
       "    .dataframe tbody tr th:only-of-type {\n",
       "        vertical-align: middle;\n",
       "    }\n",
       "\n",
       "    .dataframe tbody tr th {\n",
       "        vertical-align: top;\n",
       "    }\n",
       "\n",
       "    .dataframe thead th {\n",
       "        text-align: right;\n",
       "    }\n",
       "</style>\n",
       "<table border=\"1\" class=\"dataframe\">\n",
       "  <thead>\n",
       "    <tr style=\"text-align: right;\">\n",
       "      <th></th>\n",
       "      <th>city</th>\n",
       "      <th>state</th>\n",
       "      <th>country</th>\n",
       "      <th>latitude</th>\n",
       "      <th>longitude</th>\n",
       "      <th>distance</th>\n",
       "    </tr>\n",
       "    <tr>\n",
       "      <th>datetime</th>\n",
       "      <th></th>\n",
       "      <th></th>\n",
       "      <th></th>\n",
       "      <th></th>\n",
       "      <th></th>\n",
       "      <th></th>\n",
       "    </tr>\n",
       "  </thead>\n",
       "  <tbody>\n",
       "    <tr>\n",
       "      <th>2007-02-05 12:30:00</th>\n",
       "      <td>new tazewell</td>\n",
       "      <td>tn</td>\n",
       "      <td>us</td>\n",
       "      <td>36.4425</td>\n",
       "      <td>-83.599722</td>\n",
       "      <td>300.016444</td>\n",
       "    </tr>\n",
       "  </tbody>\n",
       "</table>\n",
       "</div>"
      ],
      "text/plain": [
       "                             city state country  latitude  longitude  \\\n",
       "datetime                                                               \n",
       "2007-02-05 12:30:00  new tazewell    tn      us   36.4425 -83.599722   \n",
       "\n",
       "                       distance  \n",
       "datetime                         \n",
       "2007-02-05 12:30:00  300.016444  "
      ]
     },
     "execution_count": 22,
     "metadata": {},
     "output_type": "execute_result"
    }
   ],
   "source": [
    "ufo['2007-02-05 12:30:00']"
   ]
  },
  {
   "cell_type": "markdown",
   "metadata": {},
   "source": [
    "# Map representation"
   ]
  },
  {
   "cell_type": "code",
   "execution_count": 23,
   "metadata": {},
   "outputs": [
    {
     "data": {
      "text/html": [
       "<div style=\"width:100%;\"><div style=\"position:relative;width:100%;height:0;padding-bottom:60%;\"><iframe src=\"data:text/html;charset=utf-8;base64,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\" style=\"position:absolute;width:100%;height:100%;left:0;top:0;border:none !important;\" allowfullscreen webkitallowfullscreen mozallowfullscreen></iframe></div></div>"
      ],
      "text/plain": [
       "<folium.folium.Map at 0x7f4973adc080>"
      ]
     },
     "execution_count": 23,
     "metadata": {},
     "output_type": "execute_result"
    }
   ],
   "source": [
    "map = folium.Map(location=[36.4425, -83.599722], tile='New Tazawell', zoom_start=12)\n",
    "map"
   ]
  }
 ],
 "metadata": {
  "kernelspec": {
   "display_name": "Python 3",
   "language": "python",
   "name": "python3"
  },
  "language_info": {
   "codemirror_mode": {
    "name": "ipython",
    "version": 3
   },
   "file_extension": ".py",
   "mimetype": "text/x-python",
   "name": "python",
   "nbconvert_exporter": "python",
   "pygments_lexer": "ipython3",
   "version": "3.7.3"
  }
 },
 "nbformat": 4,
 "nbformat_minor": 2
}
